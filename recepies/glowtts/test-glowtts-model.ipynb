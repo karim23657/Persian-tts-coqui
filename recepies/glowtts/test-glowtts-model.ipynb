{
  "cells": [
    {
      "cell_type": "markdown",
      "metadata": {
        "id": "ojayL1pgBicZ"
      },
      "source": [
        "# Install dependencies"
      ]
    },
    {
      "cell_type": "code",
      "execution_count": null,
      "metadata": {
        "id": "C6x6qk0V66AX"
      },
      "outputs": [],
      "source": [
        "!pip install -q TTS==0.22.0\n",
        "!sudo apt-get -y install espeak-ng"
      ]
    },
    {
      "cell_type": "markdown",
      "metadata": {
        "id": "zD8wUBzUBq-F"
      },
      "source": [
        "# **Test Model**"
      ]
    },
    {
      "cell_type": "markdown",
      "metadata": {
        "id": "Qqpk31VeCWkc"
      },
      "source": [
        "Downloading models"
      ]
    },
    {
      "cell_type": "code",
      "execution_count": null,
      "metadata": {
        "id": "Y_cIbUrPBvkw"
      },
      "outputs": [],
      "source": [
        "!git lfs install\n",
        "# Download female model\n",
        "!git clone https://huggingface.co/Kamtera/persian-tts-female-glow_tts\n",
        "\n",
        "# Or also you can download male model\n",
        "#!git clone https://huggingface.co/Kamtera/persian-tts-male-glow_tts"
      ]
    },
    {
      "cell_type": "code",
      "execution_count": null,
      "metadata": {
        "id": "0OT4S6lr3k5z"
      },
      "outputs": [],
      "source": [
        "!wget \"https://huggingface.co/Kamtera/persian-tts-female-Hifigan/resolve/main/config-3.json\" -O \"config.json\""
      ]
    },
    {
      "cell_type": "code",
      "execution_count": null,
      "metadata": {
        "id": "9kGPR66u3vnY"
      },
      "outputs": [],
      "source": [
        "!wget \"https://huggingface.co/Kamtera/persian-tts-female-Hifigan/resolve/main/checkpoint_378000.pth\" -O \"checkpoint_378000.pth\""
      ]
    },
    {
      "cell_type": "code",
      "execution_count": null,
      "metadata": {
        "colab": {
          "base_uri": "https://localhost:8080/"
        },
        "id": "AVaM8zgMCjj0",
        "outputId": "841e13d5-ed4a-4a32-a0e4-2e34c9ccff1c"
      },
      "outputs": [],
      "source": [
        "from TTS.config import load_config\n",
        "from TTS.utils.manage import ModelManager\n",
        "from TTS.utils.synthesizer import Synthesizer\n",
        "\n",
        "basepath=\"/content/persian-tts-female-glow_tts\"\n",
        "vbasepath=\"/content\"\n",
        "model_path =basepath+\"/best_model.pth\" # Absolute path to the model checkpoint.pth\n",
        "config_path =basepath+\"/config.json\" # Absolute path to the model config.json\n",
        "# speakers_file_path = # Absolute path to speakers.pth file\n",
        "vocoder_path=\"/content/checkpoint_378000.pth\"#vbasepath+\"/checkpoint_127000.pth\"\n",
        "vocoder_config_path=\"/content/config.json\"\n",
        "synthesizer = Synthesizer(\n",
        "        model_path,\n",
        "        config_path,\n",
        "        None ,#speakers_file_path,\n",
        "        None ,#language_ids_file_path,\n",
        "        vocoder_path ,#vocoder_path,\n",
        "        vocoder_config_path ,#vocoder_config_path,\n",
        "        None ,#encoder_path,\n",
        "        None ,#encoder_config_path,\n",
        "        None ,#args.use_cuda,\n",
        "    )\n"
      ]
    },
    {
      "cell_type": "code",
      "execution_count": null,
      "metadata": {
        "colab": {
          "base_uri": "https://localhost:8080/",
          "height": 134
        },
        "id": "Bb35HpDo8KzC",
        "outputId": "5048dfd9-67e6-4c22-e64a-c8b5a4faf0f6"
      },
      "outputs": [],
      "source": [
        "\n",
        "text=\"\\u0627\\u06AF\\u0632\\u06CC\\u0633\\u062A\\u0627\\u0646\\u0633\\u06CC\\u0627\\u0644\\u06CC\\u0633\\u0645 ! \" #@param [\"دزدی دزدید ز بز دزدی بزی ، عجب دزدی که دزدید ز بز دزدی بزی\",\"تاجر تو چه تجارت می کنی ، تو را چه که چه تجارت می کنم؟\",\"ریال به لیره ، لیره به ریال \",\"گاز دوغ دار ، دوغ گازدار \",\"سه سیر سرشیر سه شیشه شیر! \",\"کانال کولر تالار تونل \",\"اگزیستانسیالیسم ! \",\"6 سیخ جیگر سیخی 6 هزار \",\"لورل روی ریل راه میرفت \",\"کارل و لرل کارها رو رله کردن \",\"دستِ راستِ ماستِ سُسه \",\"سمسار تو سمساریش پوست سوسمار داشت \",\"انگور انبه ازگیل اورانگوتان \",\"چایی داغه ، دایی چاقه ! \"]\n",
        "# text= \"\\u062F\\u0631 \\u0631\\u0648\\u0627\\u06CC\\u062A \\u0628\\u062E\\u0648\\u0631 \\u062D\\u0636\\u0631\\u062A \\u0645\\u0631\\u06CC\\u0645 (\\u0639) \\u0622\\u0645\\u062F\\u0647\" #@param {type:\"string\"}\n",
        "wavs = synthesizer.tts(text)\n",
        "synthesizer.save_wav(wavs, 'sp.wav')\n",
        "import IPython\n",
        "IPython.display.Audio('sp.wav')"
      ]
    }
  ],
  "metadata": {
    "colab": {
      "provenance": []
    },
    "kernelspec": {
      "display_name": "Python 3",
      "name": "python3"
    },
    "language_info": {
      "name": "python"
    }
  },
  "nbformat": 4,
  "nbformat_minor": 0
}
